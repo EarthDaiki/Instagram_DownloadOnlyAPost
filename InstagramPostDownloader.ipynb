{
 "cells": [
  {
   "cell_type": "markdown",
   "metadata": {},
   "source": [
    "### Download only a post"
   ]
  },
  {
   "cell_type": "code",
   "execution_count": 3,
   "metadata": {},
   "outputs": [],
   "source": [
    "from time import sleep\n",
    "\n",
    "import os\n",
    "import requests\n",
    "from selenium.webdriver.support.wait import WebDriverWait\n",
    "from selenium.webdriver.support import expected_conditions as EC\n",
    "from selenium import webdriver\n",
    "from selenium.webdriver.common.by import By\n",
    "from webdriver_manager.chrome import ChromeDriverManager\n",
    "from selenium.webdriver.chrome.options import Options"
   ]
  },
  {
   "cell_type": "code",
   "execution_count": null,
   "metadata": {},
   "outputs": [],
   "source": [
    "driver = webdriver.Chrome(ChromeDriverManager().install())\n",
    "\n",
    "def login():\n",
    "    #login\n",
    "    driver.get('https://www.instagram.com/accounts/login/')\n",
    "\n",
    "    username = WebDriverWait(driver, 20).until(EC.element_to_be_clickable((By.CSS_SELECTOR, \"input[name='username']\")))\n",
    "    password = WebDriverWait(driver, 20).until(EC.element_to_be_clickable((By.CSS_SELECTOR, \"input[name='password']\")))\n",
    "    username.clear()\n",
    "    password.clear()\n",
    "    username.send_keys(\"username\")\n",
    "    password.send_keys(\"password\")\n",
    "    button = WebDriverWait(driver, 10).until(EC.element_to_be_clickable((By.CSS_SELECTOR, \"button[type='submit']\"))).click()\n",
    "    #save your login info?\n",
    "    not_now = WebDriverWait(driver, 20).until(EC.element_to_be_clickable((By.CLASS_NAME, '_ac8f'))).click()\n",
    "\n",
    "login()"
   ]
  },
  {
   "cell_type": "code",
   "execution_count": null,
   "metadata": {},
   "outputs": [],
   "source": [
    "number_of_imgs = 0\n",
    "number_of_videos = 0\n",
    "number_of_posts = 0\n",
    "src_list_image = []\n",
    "src_list_video = []\n",
    "video_urls = []\n",
    "count_post = 0\n",
    "\n",
    "url = \"PostURL\"\n",
    "driver.get(url)\n",
    "PostID = url.split(\"/\")[-2]\n",
    "print(PostID)\n",
    "\n",
    "def GetID():\n",
    "    sleep(1)\n",
    "    header = driver.find_element(By.TAG_NAME, \"header\")\n",
    "    id = header.find_element(By.TAG_NAME, \"span\").text\n",
    "    return id\n",
    "\n",
    "def ScanImages():\n",
    "    driver.implicitly_wait(10)\n",
    "    global count_post\n",
    "    global number_of_imgs\n",
    "    global number_of_videos\n",
    "    global number_of_posts\n",
    "    number_of_posts += 1\n",
    "    while True:\n",
    "        sleep(2)\n",
    "\n",
    "        # if you want to click like, remove →\"#\"ClickLike()\n",
    "        #ClickLike()\n",
    "        article = driver.find_element(By.TAG_NAME, 'ul')\n",
    "        img_tags = article.find_elements(By.CSS_SELECTOR, 'img[style=\"object-fit: cover;\"]')\n",
    "            \n",
    "        for i in img_tags:\n",
    "            print('load imgs')\n",
    "            img_src = i.get_attribute('src')\n",
    "            if not img_src in src_list_image:\n",
    "                src_list_image.append(img_src)\n",
    "                number_of_imgs += 1\n",
    "\n",
    "        try:\n",
    "            driver.find_element(By.CSS_SELECTOR, \"button[aria-label='Next']\").click()\n",
    "            sleep(1)\n",
    "            driver.find_element(By.CSS_SELECTOR, \"button[aria-label='Next']\").click()\n",
    "        except Exception as e:\n",
    "            break\n",
    "\n",
    "def SaveImages(dir_path):\n",
    "    print('start to save imgs')\n",
    "    post_stored_count = 0\n",
    "    saved_images = 0\n",
    "    if not os.path.exists(dir_path):\n",
    "        os.makedirs(dir_path)\n",
    "    for img_src in src_list_image:\n",
    "        print('saved')\n",
    "        img_data = requests.get(img_src).content\n",
    "        post_stored_count += 1\n",
    "        with open(os.path.join(dir_path, (f'{id}_{PostID}_{post_stored_count}.png')), 'wb') as handle:\n",
    "            handle.write(img_data)\n",
    "        saved_images += 1\n",
    "\n",
    "id = GetID()\n",
    "ScanImages()\n",
    "SaveImages(f'D:\\ScrapingImages\\InstagramDownloadFiles\\FromAPost\\{id}\\Images')"
   ]
  }
 ],
 "metadata": {
  "kernelspec": {
   "display_name": "Python 3.9.13 ('base')",
   "language": "python",
   "name": "python3"
  },
  "language_info": {
   "codemirror_mode": {
    "name": "ipython",
    "version": 3
   },
   "file_extension": ".py",
   "mimetype": "text/x-python",
   "name": "python",
   "nbconvert_exporter": "python",
   "pygments_lexer": "ipython3",
   "version": "3.9.13"
  },
  "orig_nbformat": 4,
  "vscode": {
   "interpreter": {
    "hash": "ad2bdc8ecc057115af97d19610ffacc2b4e99fae6737bb82f5d7fb13d2f2c186"
   }
  }
 },
 "nbformat": 4,
 "nbformat_minor": 2
}
